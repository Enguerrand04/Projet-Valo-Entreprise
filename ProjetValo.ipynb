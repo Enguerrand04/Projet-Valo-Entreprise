{
 "cells": [
  {
   "cell_type": "markdown",
   "metadata": {},
   "source": [
    "## Valo Apple"
   ]
  },
  {
   "cell_type": "code",
   "execution_count": null,
   "metadata": {
    "vscode": {
     "languageId": "java"
    }
   },
   "outputs": [],
   "source": [
    "class Entreprise\n",
    "{\n",
    "    private String nom;\n",
    "    private String code;\n",
    "\n",
    "    private Resultat[] resultats;\n",
    "    // Opérations de comparaison/d'agrégation/de calcul de/sur TOUS les résultats\n",
    "\n",
    "}\n",
    "\n",
    "class Resultat{\n",
    "    private int annee;\n",
    "    private String codeEntreprise;\n",
    "    private double capitauxPropres;\n",
    "    private double dette;\n",
    "    private double chargesInteret;\n",
    "    private double beneficeNet;\n",
    "    private double fluxTresorerie;\n",
    "    private double tauxImpôt;\n",
    "    // Opérations entre les valeurs ci-dessus\n",
    "    // Opérations de comparaison avec 1 autre année\n",
    "}"
   ]
  }
 ],
 "metadata": {
  "language_info": {
   "name": "python"
  }
 },
 "nbformat": 4,
 "nbformat_minor": 2
}
